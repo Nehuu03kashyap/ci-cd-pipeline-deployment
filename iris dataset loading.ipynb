{
 "cells": [
  {
   "cell_type": "code",
   "execution_count": 1,
   "id": "4e39a074",
   "metadata": {},
   "outputs": [],
   "source": [
    "#Generate iris.csv\n",
    "import pandas as pd\n",
    "from sklearn.datasets import load_iris"
   ]
  },
  {
   "cell_type": "code",
   "execution_count": 4,
   "id": "6262d658",
   "metadata": {},
   "outputs": [],
   "source": [
    "#load iris dataset\n",
    "iris = load_iris()\n",
    "df = pd.DataFrame(data=iris.data, columns=iris.feature_names)\n",
    "df['species']=iris.target"
   ]
  },
  {
   "cell_type": "code",
   "execution_count": 5,
   "id": "b9a91ca2",
   "metadata": {},
   "outputs": [],
   "source": [
    "df.to_csv(r'C:\\ml-ci-cd-pipeline\\data\\iris.csv', index=False)"
   ]
  },
  {
   "cell_type": "code",
   "execution_count": null,
   "id": "a19cd328",
   "metadata": {},
   "outputs": [],
   "source": []
  }
 ],
 "metadata": {
  "kernelspec": {
   "display_name": "Python 3 (ipykernel)",
   "language": "python",
   "name": "python3"
  },
  "language_info": {
   "codemirror_mode": {
    "name": "ipython",
    "version": 3
   },
   "file_extension": ".py",
   "mimetype": "text/x-python",
   "name": "python",
   "nbconvert_exporter": "python",
   "pygments_lexer": "ipython3",
   "version": "3.11.5"
  }
 },
 "nbformat": 4,
 "nbformat_minor": 5
}
